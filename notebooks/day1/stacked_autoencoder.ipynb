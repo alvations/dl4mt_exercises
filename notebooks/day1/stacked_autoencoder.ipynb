{
 "cells": [
  {
   "cell_type": "code",
   "execution_count": 1,
   "metadata": {
    "collapsed": true
   },
   "outputs": [],
   "source": [
    "# use the stacked autoencoder for unsupervised pre-training, then fine tune parameters with a multilayer perceptron"
   ]
  },
  {
   "cell_type": "code",
   "execution_count": 3,
   "metadata": {
    "collapsed": true
   },
   "outputs": [],
   "source": [
    "import sys\n",
    "\n",
    "# Put the path to your copy of the repo here\n",
    "DL4MT_PATH='../..'\n",
    "\n",
    "sys.path.append(DL4MT_PATH)"
   ]
  },
  {
   "cell_type": "code",
   "execution_count": null,
   "metadata": {
    "collapsed": true
   },
   "outputs": [],
   "source": [
    "from dl4mt"
   ]
  },
  {
   "cell_type": "markdown",
   "metadata": {},
   "source": [
    "\n",
    "Also don't forget to add --append or -a, if you want to append multiple cells to the same file. In this case, you can just add %%writefile filename.py -a at the top of every cell that you want like to add to the file. For more info, type %%writefile?\n",
    "\n",
    "idea -- keep all classes within a single cell -- every time they are run, also save them to a class directory using the %%writefile magic. Then use the classes developed in earlier notebooks to run later notebooks.\n",
    "\n",
    "import the autoencoder, logistic regression, and MLP classes saved in previous notebooks."
   ]
  },
  {
   "cell_type": "code",
   "execution_count": null,
   "metadata": {
    "collapsed": true
   },
   "outputs": [],
   "source": []
  }
 ],
 "metadata": {
  "kernelspec": {
   "display_name": "Python 2",
   "language": "python",
   "name": "python2"
  },
  "language_info": {
   "codemirror_mode": {
    "name": "ipython",
    "version": 2
   },
   "file_extension": ".py",
   "mimetype": "text/x-python",
   "name": "python",
   "nbconvert_exporter": "python",
   "pygments_lexer": "ipython2",
   "version": "2.7.10"
  }
 },
 "nbformat": 4,
 "nbformat_minor": 0
}
