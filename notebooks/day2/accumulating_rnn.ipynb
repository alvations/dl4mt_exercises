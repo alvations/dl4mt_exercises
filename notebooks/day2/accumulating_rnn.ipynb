{
 "cells": [
  {
   "cell_type": "code",
   "execution_count": 1,
   "metadata": {
    "collapsed": true
   },
   "outputs": [],
   "source": [
    "%matplotlib inline\n",
    "%load_ext autoreload\n",
    "%autoreload 2\n",
    "\n",
    "import pylab\n",
    "import sys\n",
    "\n",
    "pylab.rcParams['figure.figsize'] = (10.0, 8.0)"
   ]
  },
  {
   "cell_type": "code",
   "execution_count": 9,
   "metadata": {
    "collapsed": true
   },
   "outputs": [],
   "source": [
    "# verify that an RNN can accumulate its inputs\n",
    "import numpy\n",
    "import theano\n",
    "import theano.tensor as T\n",
    "from blocks.bricks.recurrent import SimpleRecurrent\n",
    "from blocks.graph import ComputationGraph\n",
    "from blocks import initialization\n",
    "from blocks.bricks import Identity"
   ]
  },
  {
   "cell_type": "code",
   "execution_count": 10,
   "metadata": {
    "collapsed": false
   },
   "outputs": [
    {
     "name": "stdout",
     "output_type": "stream",
     "text": [
      "[[[ 1.  1.  1.]]\n",
      "\n",
      " [[ 2.  2.  2.]]\n",
      "\n",
      " [[ 3.  3.  3.]]]\n"
     ]
    }
   ],
   "source": [
    "x = tensor.tensor3('x')\n",
    "rnn = SimpleRecurrent(\n",
    "    dim=3, activation=Identity(), weights_init=initialization.Identity())\n",
    "rnn.initialize()\n",
    "h = rnn.apply(x)    \n",
    "    \n",
    "f = theano.function([x], h)\n",
    "print(f(numpy.ones((3, 1, 3), dtype=theano.config.floatX))) "
   ]
  },
  {
   "cell_type": "markdown",
   "metadata": {},
   "source": [
    "### Challenge:\n",
    "    \n",
    "(1)\n",
    "- what do the 3 dimensions of the numpy.ones matrix represent? (hint: (batch, features, time), but in what order?\n",
    "- you can check the implementation of the SimpleRecurrent transition here: https://github.com/mila-udem/blocks/blob/master/blocks/bricks/recurrent.py#L322-L323"
   ]
  }
 ],
 "metadata": {
  "kernelspec": {
   "display_name": "Python 2",
   "language": "python",
   "name": "python2"
  },
  "language_info": {
   "codemirror_mode": {
    "name": "ipython",
    "version": 2
   },
   "file_extension": ".py",
   "mimetype": "text/x-python",
   "name": "python",
   "nbconvert_exporter": "python",
   "pygments_lexer": "ipython2",
   "version": "2.7.10"
  }
 },
 "nbformat": 4,
 "nbformat_minor": 0
}
