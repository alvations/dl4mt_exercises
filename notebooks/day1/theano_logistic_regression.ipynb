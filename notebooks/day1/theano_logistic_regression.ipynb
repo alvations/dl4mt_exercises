{
 "cells": [
  {
   "cell_type": "code",
   "execution_count": 1,
   "metadata": {
    "collapsed": false
   },
   "outputs": [],
   "source": [
    "%matplotlib inline\n",
    "%load_ext autoreload\n",
    "%autoreload 2\n",
    "\n",
    "import pylab\n",
    "import sys\n",
    "\n",
    "# making sure the dl4mt module is on the path \n",
    "# -- this path depends upon the location where the notebook is running\n",
    "# for saving and import to work, it needs to be the day1 directory\n",
    "sys.path.append('../..')\n",
    "\n",
    "pylab.rcParams['figure.figsize'] = (10.0, 8.0)"
   ]
  },
  {
   "cell_type": "markdown",
   "metadata": {},
   "source": [
    "### The Logistic Regression model"
   ]
  },
  {
   "cell_type": "code",
   "execution_count": 2,
   "metadata": {
    "collapsed": false
   },
   "outputs": [
    {
     "name": "stdout",
     "output_type": "stream",
     "text": [
      "Writing ../../dl4mt/logistic_regression.py\n"
     ]
    }
   ],
   "source": [
    "%%writefile ../../dl4mt/logistic_regression.py\n",
    "# Uncomment to save this cell to file in order to import it in later notebooks\n",
    "\n",
    "import cPickle\n",
    "import gzip\n",
    "import os\n",
    "import sys\n",
    "import timeit\n",
    "\n",
    "import numpy\n",
    "\n",
    "import theano\n",
    "import theano.tensor as T\n",
    "\n",
    "\"\"\"\n",
    " Most of this class was taken from the lisa-lab deeplearning tutorials \n",
    " -- https://github.com/lisa-lab/DeepLearningTutorials\n",
    "\n",
    "\"\"\"\n",
    "\n",
    "class LogisticRegression(object):\n",
    "    \"\"\"Multi-class Logistic Regression Class\n",
    "\n",
    "    The logistic regression is fully described by a weight matrix :math:`W`\n",
    "    and bias vector :math:`b`. Classification is done by projecting data\n",
    "    points onto a set of hyperplanes, the distance to which is used to\n",
    "    determine a class membership probability.\n",
    "    \"\"\"\n",
    "\n",
    "    def __init__(self, input, n_in, n_out):\n",
    "        \"\"\" Initialize the Logistic Regression class parameters\n",
    "\n",
    "        :type input: theano.tensor.TensorType\n",
    "        :param input: symbolic variable that describes the input of the\n",
    "                      architecture (one minibatch)\n",
    "\n",
    "        :type n_in: int\n",
    "        :param n_in: number of input units, the dimension of the space in\n",
    "                     which the datapoints lie\n",
    "\n",
    "        :type n_out: int\n",
    "        :param n_out: number of output units, the dimension of the space in\n",
    "                      which the labels lie\n",
    "\n",
    "        \"\"\"\n",
    "  \n",
    "        # initialize with 0 the weights W as a matrix of shape (n_in, n_out)\n",
    "        self.W = theano.shared(\n",
    "            value=numpy.zeros(\n",
    "                (n_in, n_out),\n",
    "                dtype=theano.config.floatX\n",
    "            ),\n",
    "            name='W',\n",
    "            borrow=True\n",
    "        )\n",
    "        # initialize the biases b as a vector of n_out 0s\n",
    "        self.b = theano.shared(\n",
    "            value=numpy.zeros(\n",
    "                (n_out,),\n",
    "                dtype=theano.config.floatX\n",
    "            ),\n",
    "            name='b',\n",
    "            borrow=True\n",
    "        )\n",
    "\n",
    "        # symbolic expression for computing the matrix of class-membership\n",
    "        # probabilities\n",
    "        # Where:\n",
    "        # W is a matrix where column-k represents the separation hyperplane for\n",
    "        # class-k\n",
    "        # x is a matrix where row-j  represents input training sample-j (here input == x)\n",
    "        # b is a vector where element-k represents the free parameter of\n",
    "        # hyperplane-k\n",
    "        self.p_y_given_x = T.nnet.softmax(T.dot(input, self.W) + self.b)\n",
    "\n",
    "        # symbolic description of how to map p_y_given_x to the class with the maximum probability\n",
    "        self.y_pred = T.argmax(self.p_y_given_x, axis=1)\n",
    "    \n",
    "        # parameters of the model\n",
    "        self.params = [self.W, self.b]\n",
    "\n",
    "        # keep track of model input -- this will be useful for creating theano functions later\n",
    "        self.input = input\n",
    "\n",
    "    def predict(self, X):\n",
    "        # predict y_hat given X using the parameters of this model\n",
    "        # Quiz: why do we have this function, as well as self.p_y_given_x above?\n",
    "        return T.nnet.softmax(T.dot(X, self.W) + self.b)\n",
    "        \n",
    "    # TODO: implement this as a challenge -- add tests in the following cell to see if it's correct\n",
    "    def negative_log_likelihood(self, y):\n",
    "        \"\"\"Return the mean of the negative log-likelihood of the prediction\n",
    "        of this model under a given target distribution.\n",
    "\n",
    "        :type y: theano.tensor.TensorType\n",
    "        :param y: corresponds to a vector that gives for each example the\n",
    "                  correct label\n",
    "\n",
    "        Note: we use the mean instead of the sum so that\n",
    "              the learning rate is less dependent on the batch size\n",
    "        \"\"\"\n",
    "        return -T.mean(T.log(self.p_y_given_x)[T.arange(y.shape[0]), y])\n",
    "\n",
    "    def errors(self, y):\n",
    "        \"\"\"Return a float representing the number of errors in the minibatch\n",
    "        over the total number of examples of the minibatch; zero one\n",
    "        loss over the size of the minibatch\n",
    "\n",
    "        :type y: theano.tensor.TensorType\n",
    "        :param y: corresponds to a vector that gives for each example the\n",
    "                  correct label\n",
    "        \"\"\"\n",
    "\n",
    "        # check if y has same dimension of y_pred\n",
    "        if y.ndim != self.y_pred.ndim:\n",
    "            raise TypeError(\n",
    "                'y should have the same shape as self.y_pred',\n",
    "                ('y', y.type, 'y_pred', self.y_pred.type)\n",
    "            )\n",
    "        # check if y is of the correct datatype\n",
    "        if y.dtype.startswith('int'):\n",
    "            # the T.neq operator returns a vector of 0s and 1s, where 1\n",
    "            # represents a mistake in prediction\n",
    "            return T.mean(T.neq(self.y_pred, y))\n",
    "        else:\n",
    "            raise NotImplementedError()\n"
   ]
  },
  {
   "cell_type": "code",
   "execution_count": 3,
   "metadata": {
    "collapsed": false
   },
   "outputs": [],
   "source": [
    "from dl4mt.logistic_regression import LogisticRegression\n",
    "\n",
    "import theano\n",
    "import theano.tensor as T\n",
    "\n",
    "\n",
    "# this function is unique to this model, and initializes the functions and parameters we'll need for training\n",
    "def initialize_logistic_regression(train_dataset, dev_dataset, learning_rate=0.1, batch_size=10, n_out=12):\n",
    "    \n",
    "    \"\"\" Initializes the functions and parameters to train a Logistic Regression Model\n",
    "\n",
    "    :type train_dataset: tuple\n",
    "    :param train_dataset: a tuple consisting of (X,y) for the training dataset\n",
    "                          (X and y are theano shared variables)\n",
    "                          \n",
    "    :type dev_dataset: tuple\n",
    "    :param dev_dataset: a tuple consisting of (X,y) for the dev/validation dataset\n",
    "                        (X and y are theano shared variables)                      \n",
    "    \n",
    "    :type learning_rate: float\n",
    "    :param learning_rate: learning rate used (factor for the stochastic\n",
    "                          gradient)\n",
    "\n",
    "    :type batch_size: int\n",
    "    :param batch_size: the minibatch size for training and validation \n",
    "\n",
    "    :type n_out: int\n",
    "    :param batch_size: the number of output \"classes\"\n",
    "    \"\"\"\n",
    "\n",
    "    train_set_x, train_set_y = train_dataset\n",
    "    valid_set_x, valid_set_y = dev_dataset\n",
    "\n",
    "    # compute number of minibatches for training, validation and testing\n",
    "    n_train_batches = train_set_x.get_value(borrow=True).shape[0] / batch_size\n",
    "    n_valid_batches = valid_set_x.get_value(borrow=True).shape[0] / batch_size\n",
    "\n",
    "    # create the logistic regression model\n",
    "    # allocate symbolic variables for the data\n",
    "    index = T.lscalar()  # index to a [mini]batch\n",
    "\n",
    "    # generate symbolic variables for input (x and y represent a minibatch)\n",
    "    x = T.matrix('x')  # data (one row per training instance)\n",
    "    y = T.ivector('y')  # labels, presented as 1D vector of [int] labels\n",
    "\n",
    "    n_in = train_set_x.get_value().shape[1]\n",
    "    \n",
    "    classifier = LogisticRegression(input=x, n_in=n_in, n_out=n_out)\n",
    "\n",
    "    # the cost we minimize during training is the negative log likelihood of the model\n",
    "    cost = classifier.negative_log_likelihood(y)\n",
    "\n",
    "    validate_model_func = theano.function(\n",
    "        inputs=[index],\n",
    "        outputs=classifier.errors(y),\n",
    "        givens={\n",
    "            x: valid_set_x[index * batch_size: (index + 1) * batch_size],\n",
    "            y: valid_set_y[index * batch_size: (index + 1) * batch_size]\n",
    "        }\n",
    "    )\n",
    "\n",
    "    # compute the gradient of cost with respect to theta = (W,b)\n",
    "    g_W = T.grad(cost=cost, wrt=classifier.W)\n",
    "    g_b = T.grad(cost=cost, wrt=classifier.b)\n",
    "\n",
    "    # specify how to update the parameters of the model as a list of\n",
    "    # (variable, update expression) pairs.\n",
    "    updates = [(classifier.W, classifier.W - learning_rate * g_W),\n",
    "               (classifier.b, classifier.b - learning_rate * g_b)]\n",
    "\n",
    "    # compiling a Theano function `train_model` that returns the cost, and at\n",
    "    # the same time updates the parameter of the model based on the rules\n",
    "    # defined in `updates`\n",
    "    train_model_func = theano.function(\n",
    "        inputs=[index],\n",
    "        outputs=cost,\n",
    "        updates=updates,\n",
    "        givens={\n",
    "            x: train_set_x[index * batch_size: (index + 1) * batch_size],\n",
    "            y: train_set_y[index * batch_size: (index + 1) * batch_size]\n",
    "        }\n",
    "    )\n",
    "\n",
    "    # return the classifier, the training and validation functions, and n_train_batches, n_valid_batches\n",
    "    return (classifier, train_model_func, validate_model_func, n_train_batches, n_valid_batches)"
   ]
  },
  {
   "cell_type": "markdown",
   "metadata": {},
   "source": [
    "### A Generic Training Function that we will reuse in later notebooks\n",
    "\n",
    "- it's a good idea to take a few minutes to make sure you understand what is happening in the train_model function, as this is a standard way to make a training loop in theano."
   ]
  },
  {
   "cell_type": "code",
   "execution_count": 4,
   "metadata": {
    "collapsed": false
   },
   "outputs": [
    {
     "name": "stdout",
     "output_type": "stream",
     "text": [
      "Writing ../../dl4mt/training.py\n"
     ]
    }
   ],
   "source": [
    "%%writefile ../../dl4mt/training.py\n",
    "\n",
    "# this function is shared by all day1 models which are trained with SGD\n",
    "import timeit\n",
    "import numpy\n",
    "\n",
    "def train_model(train_model, n_train_batches, validate_model=None, n_valid_batches=0, training_epochs=25):\n",
    "    \n",
    "    # early-stopping parameters\n",
    "    patience = 5000  # use at least this many training examples\n",
    "    patience_increase = 2  # wait this much longer when a new best is found\n",
    "    improvement_threshold = 0.995  # a relative improvement of this much is\n",
    "                                  # considered significant\n",
    "    validation_frequency = min(n_train_batches, patience / 2)\n",
    "                                  # go through this many\n",
    "                                  # minibatches before checking the network\n",
    "                                  # on the validation set; in this case we\n",
    "                                  # check every epoch\n",
    "\n",
    "    best_validation_loss = numpy.inf\n",
    "    test_score = 0.\n",
    "    start_time = timeit.default_timer()\n",
    "\n",
    "    done_looping = False\n",
    "    epoch = 0\n",
    "    while (epoch < training_epochs) and (not done_looping):\n",
    "        epoch = epoch + 1\n",
    "        mini_batch_costs = []\n",
    "        for minibatch_index in xrange(n_train_batches):\n",
    "            \n",
    "            # iteration number\n",
    "            iter = (epoch - 1) * n_train_batches + minibatch_index\n",
    "            \n",
    "            minibatch_avg_cost = train_model(minibatch_index)\n",
    "            mini_batch_costs.append(minibatch_avg_cost)\n",
    "            \n",
    "            if validate_model is not None:\n",
    "                if (iter + 1) % validation_frequency == 0:\n",
    "                    # compute zero-one loss on validation set\n",
    "                    validation_losses = [validate_model(i)\n",
    "                                         for i in xrange(n_valid_batches)]\n",
    "                    this_validation_loss = numpy.mean(validation_losses)\n",
    "\n",
    "                    print(\n",
    "                        'epoch %i, minibatch %i/%i, validation error %f %%' %\n",
    "                        (\n",
    "                            epoch,\n",
    "                            minibatch_index + 1,\n",
    "                            n_train_batches,\n",
    "                            this_validation_loss * 100.\n",
    "                        )\n",
    "                    )\n",
    "\n",
    "                    # if we got the best validation score until now\n",
    "                    if this_validation_loss < best_validation_loss:\n",
    "                        #improve patience if loss improvement is good enough\n",
    "                        if this_validation_loss < best_validation_loss *  \\\n",
    "                           improvement_threshold:\n",
    "                            patience = max(patience, iter * patience_increase)\n",
    "\n",
    "                        best_validation_loss = this_validation_loss\n",
    "\n",
    "\n",
    "                if patience <= iter:\n",
    "                    done_looping = True\n",
    "                    break\n",
    "         \n",
    "        print(\n",
    "                'epoch %i, average training cost %0.2f' %\n",
    "                (\n",
    "                    epoch,\n",
    "                    numpy.mean(mini_batch_costs)\n",
    "                )\n",
    "        )\n",
    "                \n",
    "    end_time = timeit.default_timer()\n",
    "    print('Optimization complete!')\n",
    "    if best_validation_loss < numpy.inf:\n",
    "        print(\"Best validation score: %f %%\") % (best_validation_loss * 100.)\n"
   ]
  },
  {
   "cell_type": "markdown",
   "metadata": {},
   "source": [
    "### Functions for preparing the dataset\n",
    "\n",
    "The `prep_dataset` function will be used in other notebooks as well"
   ]
  },
  {
   "cell_type": "code",
   "execution_count": 5,
   "metadata": {
    "collapsed": false
   },
   "outputs": [
    {
     "name": "stdout",
     "output_type": "stream",
     "text": [
      "Writing ../../dl4mt/datasets.py\n"
     ]
    }
   ],
   "source": [
    "%%writefile ../../dl4mt/datasets.py\n",
    "# Uncomment to save this cell to file in order to import it in later notebooks\n",
    "\n",
    "import theano\n",
    "import theano.tensor as T\n",
    "import numpy as np\n",
    "from fuel.datasets import H5PYDataset\n",
    "\n",
    "def create_hstacked_vectors(index_path, seqs):\n",
    "    # load the index, map the seqs (word indices) through the index, hstack, then cast the results to np.array\n",
    "    index = np.load(index_path)\n",
    "    \n",
    "    working_index = np.load(index_path)\n",
    "    return np.array([np.hstack([index[idx] for idx in seq]) for seq in seqs])\n",
    "\n",
    "# load a portion of a fuel dataset\n",
    "def load_fuel_dataset(filename, which_sets=None):\n",
    "    X, y = H5PYDataset(\n",
    "        filename, which_sets=which_sets,\n",
    "        sources=['instances', 'targets'], load_in_memory=True).data_sources\n",
    "    \n",
    "    # make sure y is 0-dimensional\n",
    "    y = y.ravel()  \n",
    "    return (X,y)\n",
    "    \n",
    "    \n",
    "def shared_dataset(X, y, borrow=True, cast_y=True):\n",
    "    \"\"\" Function that loads the dataset into shared variables\n",
    "    The reason we store our dataset in shared variables is to allow\n",
    "    Theano to copy it into the GPU memory (when code is run on GPU).\n",
    "    Since copying data into the GPU is slow, copying a minibatch everytime\n",
    "    is needed (the default behaviour if the data is not in a shared\n",
    "    variable) would lead to a large decrease in performance.\n",
    "    \"\"\"\n",
    "\n",
    "    shared_x = theano.shared(np.asarray(X,\n",
    "                                           dtype=theano.config.floatX), borrow=borrow)\n",
    "    shared_y = theano.shared(np.asarray(y,\n",
    "                                           dtype=theano.config.floatX), borrow=borrow)\n",
    " \n",
    "    # note that shared_y is cast to int because it is used as a vector of indices\n",
    "    if cast_y:\n",
    "        return shared_x, T.cast(shared_y, 'int32')\n",
    "    return shared_x, shared_y\n",
    "\n",
    "def prep_dataset(path, index_path, which_sets=[], cutoff=None, cast_y=True):\n",
    "    X, y = load_fuel_dataset(path, which_sets=which_sets)\n",
    "    if cutoff is not None:\n",
    "        X = X[:cutoff]\n",
    "        y = y[:cutoff]\n",
    "\n",
    "    # extract windows\n",
    "    X = create_hstacked_vectors(index_path, X)\n",
    "\n",
    "    # make shared dataset\n",
    "    return shared_dataset(X, y, cast_y=cast_y)"
   ]
  },
  {
   "cell_type": "code",
   "execution_count": 6,
   "metadata": {
    "collapsed": false
   },
   "outputs": [
    {
     "name": "stdout",
     "output_type": "stream",
     "text": [
      "epoch 1, minibatch 200/200, validation error 25.840000 %\n",
      "epoch 1, average training cost 1.01\n",
      "epoch 2, minibatch 200/200, validation error 22.270000 %\n",
      "epoch 2, average training cost 0.58\n",
      "epoch 3, minibatch 200/200, validation error 20.920000 %\n",
      "epoch 3, average training cost 0.49\n",
      "epoch 4, minibatch 200/200, validation error 20.190000 %\n",
      "epoch 4, average training cost 0.44\n",
      "epoch 5, minibatch 200/200, validation error 19.840000 %\n",
      "epoch 5, average training cost 0.40\n",
      "epoch 6, minibatch 200/200, validation error 19.650000 %\n",
      "epoch 6, average training cost 0.38\n",
      "epoch 7, minibatch 200/200, validation error 19.340000 %\n",
      "epoch 7, average training cost 0.36\n",
      "epoch 8, minibatch 200/200, validation error 19.240000 %\n",
      "epoch 8, average training cost 0.34\n",
      "epoch 9, minibatch 200/200, validation error 19.010000 %\n",
      "epoch 9, average training cost 0.33\n",
      "epoch 10, minibatch 200/200, validation error 18.920000 %\n",
      "epoch 10, average training cost 0.32\n",
      "epoch 11, minibatch 200/200, validation error 18.760000 %\n",
      "epoch 11, average training cost 0.31\n",
      "epoch 12, minibatch 200/200, validation error 18.670000 %\n",
      "epoch 12, average training cost 0.30\n",
      "epoch 13, minibatch 200/200, validation error 18.520000 %\n",
      "epoch 13, average training cost 0.30\n",
      "epoch 14, minibatch 200/200, validation error 18.500000 %\n",
      "epoch 14, average training cost 0.29\n",
      "epoch 15, minibatch 200/200, validation error 18.390000 %\n",
      "epoch 15, average training cost 0.28\n",
      "epoch 16, minibatch 200/200, validation error 18.300000 %\n",
      "epoch 16, average training cost 0.28\n",
      "epoch 17, minibatch 200/200, validation error 18.200000 %\n",
      "epoch 17, average training cost 0.27\n",
      "epoch 18, minibatch 200/200, validation error 18.210000 %\n",
      "epoch 18, average training cost 0.27\n",
      "epoch 19, minibatch 200/200, validation error 18.130000 %\n",
      "epoch 19, average training cost 0.26\n",
      "epoch 20, minibatch 200/200, validation error 18.000000 %\n",
      "epoch 20, average training cost 0.26\n",
      "Optimization complete!\n",
      "Best validation score: 18.000000 %\n"
     ]
    }
   ],
   "source": [
    "import os\n",
    "\n",
    "from dl4mt.datasets import prep_dataset\n",
    "from dl4mt.training import train_model\n",
    "\n",
    "# location of our datasets\n",
    "DATASET_LOCATION = '../../datasets/'\n",
    "\n",
    "# the pos dataset consists of windows around words\n",
    "POS_DATASET_NAME = 'brown_pos_dataset.hdf5'\n",
    "POS_DATASET_PATH = os.path.join(DATASET_LOCATION, POS_DATASET_NAME)\n",
    "\n",
    "WORD_BY_WORD_MATRIX = 'brown.word-by-word.normalized.npy'\n",
    "# Just for fun -- a Latent Semantic Indexing (LSI) matrix instead of word-by-word\n",
    "# WORD_BY_WORD_MATRIX = 'brown.lsi-index.npy'\n",
    "VECTOR_INDEX_PATH = os.path.join(DATASET_LOCATION, WORD_BY_WORD_MATRIX)\n",
    "\n",
    "# the cutoff for the maximum number of training and dev examples\n",
    "# change this parameter to use more/fewer examples\n",
    "CUTOFF = 10000\n",
    "  \n",
    "train_dataset = prep_dataset(POS_DATASET_PATH, VECTOR_INDEX_PATH, which_sets=['train'], cutoff=CUTOFF)\n",
    "dev_dataset = prep_dataset(POS_DATASET_PATH, VECTOR_INDEX_PATH, which_sets=['dev'], cutoff=CUTOFF)\n",
    "\n",
    "# get the functions and params that we need for our models\n",
    "initialization_data = initialize_logistic_regression(train_dataset, dev_dataset,\n",
    "                                                     learning_rate=0.1, batch_size=50)\n",
    "\n",
    "classifier, train_model_func, validate_model_func, n_train_batches, n_valid_batches = initialization_data\n",
    "    \n",
    "# load the training function and train the LR model \n",
    "# in general, train_model should return any useful information about the training process\n",
    "train_model(train_model_func,  n_train_batches, validate_model=validate_model_func,\n",
    "            n_valid_batches=n_valid_batches, training_epochs=20)"
   ]
  },
  {
   "cell_type": "code",
   "execution_count": 7,
   "metadata": {
    "collapsed": false
   },
   "outputs": [
    {
     "name": "stdout",
     "output_type": "stream",
     "text": [
      "Writing ../../dl4mt/predict.py\n"
     ]
    }
   ],
   "source": [
    "%%writefile ../../dl4mt/predict.py\n",
    "\n",
    "import theano\n",
    "import cPickle\n",
    "\n",
    "def predict(classifier, test_X):\n",
    "    \"\"\"Get a model's predictions for a given X\n",
    "    \n",
    "    classifier is expected to be either: (1) a theano graph with `input` and `y_pred`,\n",
    "    or a path to a pickled model\n",
    "    \"\"\"\n",
    "\n",
    "    if type(classifier) is str:\n",
    "        # load the saved model at the path specified by 'classifier'\n",
    "        print(\"Loading model from: {}\".format(classifier))\n",
    "        classifier = cPickle.load(open(classifier))\n",
    "\n",
    "    # compile a predictor function\n",
    "    predict_model = theano.function(\n",
    "        inputs=[classifier.input],\n",
    "        outputs=classifier.y_pred)\n",
    "\n",
    "    y_hat = predict_model(test_X)\n",
    "    \n",
    "    return y_hat\n"
   ]
  },
  {
   "cell_type": "code",
   "execution_count": 8,
   "metadata": {
    "collapsed": false,
    "scrolled": true
   },
   "outputs": [
    {
     "data": {
      "text/plain": [
       "0.85360000000000003"
      ]
     },
     "execution_count": 8,
     "metadata": {},
     "output_type": "execute_result"
    }
   ],
   "source": [
    "import cPickle\n",
    "from dl4mt.predict import predict\n",
    "\n",
    "test_dataset = prep_dataset(POS_DATASET_PATH, VECTOR_INDEX_PATH, which_sets=['test'], cutoff=CUTOFF, cast_y=False)\n",
    "\n",
    "test_X, test_y = test_dataset\n",
    "test_y = test_y.get_value().astype('int32')\n",
    "predictions = predict(classifier, test_X.get_value())\n",
    "\n",
    "CORPUS_INDICES = 'brown_pos_dataset.indices'\n",
    "# Indexes for mapping words and tags <--> ints\n",
    "with open(os.path.join(DATASET_LOCATION, CORPUS_INDICES)) as indices_file:\n",
    "    corpus_indices = cPickle.load(indices_file)\n",
    "\n",
    "# map tag ids back to strings\n",
    "y_test_actual = [corpus_indices['idx2tag'][tag_idx] for tag_idx in test_y]\n",
    "y_test_hat = [corpus_indices['idx2tag'][tag_idx] for tag_idx in predictions]\n",
    "\n",
    "# quick check of our accuracy on the test dataset\n",
    "sum([y==p for y,p in zip(predictions, test_y)]) / float(len(predictions))"
   ]
  },
  {
   "cell_type": "code",
   "execution_count": 9,
   "metadata": {
    "collapsed": false
   },
   "outputs": [
    {
     "name": "stdout",
     "output_type": "stream",
     "text": [
      "Writing ../../dl4mt/save_model.py\n"
     ]
    }
   ],
   "source": [
    "%%writefile ../../dl4mt/save_model.py\n",
    "\n",
    "import cPickle\n",
    "\n",
    "def save_model(model, model_path):\n",
    "    # save the model for later\n",
    "    with open(model_path, 'w') as f:\n",
    "        cPickle.dump(model, f)\n",
    "    print(\"Model saved to: {}\".format(model_path))"
   ]
  },
  {
   "cell_type": "code",
   "execution_count": 10,
   "metadata": {
    "collapsed": false
   },
   "outputs": [
    {
     "name": "stdout",
     "output_type": "stream",
     "text": [
      "Model saved to: ../../trained_models/logistic_regression_model.pkl\n"
     ]
    }
   ],
   "source": [
    "from dl4mt.save_model import save_model\n",
    "\n",
    "MODELS_PATH = \"../../trained_models/\"\n",
    "MODEL_NAME = \"logistic_regression_model.pkl\"\n",
    "save_path = os.path.join(MODELS_PATH, MODEL_NAME)\n",
    "\n",
    "save_model(classifier, save_path)"
   ]
  },
  {
   "cell_type": "code",
   "execution_count": 11,
   "metadata": {
    "collapsed": false
   },
   "outputs": [
    {
     "name": "stdout",
     "output_type": "stream",
     "text": [
      "Writing ../../dl4mt/confusion_matrix.py\n"
     ]
    }
   ],
   "source": [
    "%%writefile ../../dl4mt/confusion_matrix.py\n",
    "\n",
    "import numpy as np\n",
    "import matplotlib.pyplot as plt\n",
    "\n",
    "\n",
    "def plot_confusion_matrix(cm, class_names, title='Confusion matrix', cmap=plt.cm.Blues):\n",
    "    plt.imshow(cm, interpolation='nearest', cmap=cmap)\n",
    "    plt.title(title)\n",
    "    plt.colorbar()\n",
    "    tick_marks = np.arange(len(class_names))\n",
    "    plt.xticks(tick_marks, class_names, rotation=45)\n",
    "    plt.yticks(tick_marks, class_names)\n",
    "    plt.tight_layout()\n",
    "    plt.ylabel('True label')\n",
    "    plt.xlabel('Predicted label')"
   ]
  },
  {
   "cell_type": "code",
   "execution_count": 12,
   "metadata": {
    "collapsed": false
   },
   "outputs": [
    {
     "data": {
      "image/png": "[encoded data removed]",
      "text/plain": [
       "<matplotlib.figure.Figure at 0x11415bb10>"
      ]
     },
     "metadata": {},
     "output_type": "display_data"
    }
   ],
   "source": [
    "from sklearn.metrics import confusion_matrix\n",
    "import numpy as np\n",
    "import matplotlib.pyplot as plt\n",
    "\n",
    "from dl4mt.confusion_matrix import plot_confusion_matrix\n",
    "\n",
    "# get class names\n",
    "class_names = list(set(y_test_actual))\n",
    "\n",
    "# Compute confusion matrix\n",
    "cm = confusion_matrix(y_test_actual, y_test_hat, labels=class_names)\n",
    "\n",
    "# Normalize the confusion matrix by row (i.e by the number of samples in each class)\n",
    "cm_normalized = cm.astype('float') / cm.sum(axis=1)[:, np.newaxis]\n",
    "# np.set_printoptions(precision=2)\n",
    "# print('Normalized confusion matrix')\n",
    "# print(cm_normalized)\n",
    "plt.figure()\n",
    "plot_confusion_matrix(cm_normalized, class_names, title='Normalized confusion matrix')\n",
    "\n",
    "plt.show()"
   ]
  },
  {
   "cell_type": "markdown",
   "metadata": {},
   "source": [
    "**** Some info about the tagset ****\n",
    "\n",
    "from https://github.com/slavpetrov/universal-pos-tags\n",
    "\n",
    "- VERB - verbs (all tenses and modes)      \n",
    "- NOUN - nouns (common and proper)      \n",
    "- PRON - pronouns       \n",
    "- ADJ - adjectives      \n",
    "- ADV - adverbs      \n",
    "- ADP - adpositions (prepositions and postpositions)      \n",
    "- CONJ - conjunctions      \n",
    "- DET - determiners      \n",
    "- NUM - cardinal numbers      \n",
    "- PRT - particles or other function words      \n",
    "- X - other: foreign words, typos, abbreviations      \n",
    "- . - punctuation      "
   ]
  },
  {
   "cell_type": "markdown",
   "metadata": {},
   "source": [
    "## Challenges:\n",
    "\n",
    "- Compute the f1 score for each class -- hint: you could use [sklearn.metrics.f1_score](http://scikit-learn.org/stable/modules/generated/sklearn.metrics.f1_score.html)\n",
    "- Does performance improve when you increase the number of training examples?\n",
    "- Can you make a plot which visualizes the training and/or validation cost at each epoch  (X axis is epoch, Y axis is cost)?\n",
    "    - hint: you need to store the cost at each epoch, and return a list of costs from the `train_model` function"
   ]
  },
  {
   "cell_type": "code",
   "execution_count": null,
   "metadata": {
    "collapsed": true
   },
   "outputs": [],
   "source": []
  }
 ],
 "metadata": {
  "kernelspec": {
   "display_name": "Python 2",
   "language": "python",
   "name": "python2"
  },
  "language_info": {
   "codemirror_mode": {
    "name": "ipython",
    "version": 2
   },
   "file_extension": ".py",
   "mimetype": "text/x-python",
   "name": "python",
   "nbconvert_exporter": "python",
   "pygments_lexer": "ipython2",
   "version": "2.7.10"
  }
 },
 "nbformat": 4,
 "nbformat_minor": 0
}
